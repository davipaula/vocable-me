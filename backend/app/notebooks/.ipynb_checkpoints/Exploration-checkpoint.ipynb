{
 "cells": [
  {
   "cell_type": "code",
   "execution_count": 40,
   "metadata": {},
   "outputs": [
    {
     "data": {
      "text/html": [
       "<div>\n",
       "<style scoped>\n",
       "    .dataframe tbody tr th:only-of-type {\n",
       "        vertical-align: middle;\n",
       "    }\n",
       "\n",
       "    .dataframe tbody tr th {\n",
       "        vertical-align: top;\n",
       "    }\n",
       "\n",
       "    .dataframe thead th {\n",
       "        text-align: right;\n",
       "    }\n",
       "</style>\n",
       "<table border=\"1\" class=\"dataframe\">\n",
       "  <thead>\n",
       "    <tr style=\"text-align: right;\">\n",
       "      <th></th>\n",
       "      <th>title</th>\n",
       "      <th>captions</th>\n",
       "    </tr>\n",
       "  </thead>\n",
       "  <tbody>\n",
       "    <tr>\n",
       "      <th>0</th>\n",
       "      <td>a_j_jacobs_how_healthy_living_nearly_killed_me...</td>\n",
       "      <td>I've spent the last decade subjecting myself t...</td>\n",
       "    </tr>\n",
       "    <tr>\n",
       "      <th>1</th>\n",
       "      <td>a_j_jacobs_my_year_of_living_biblically.en.vtt</td>\n",
       "      <td>I thought I'd tell you a little about what I l...</td>\n",
       "    </tr>\n",
       "    <tr>\n",
       "      <th>2</th>\n",
       "      <td>a_j_jacobs_the_evolution_of_the_coffee_cup_lid...</td>\n",
       "      <td>Transcriber: TED Translators admin Reviewer: C...</td>\n",
       "    </tr>\n",
       "    <tr>\n",
       "      <th>3</th>\n",
       "      <td>a_j_jacobs_the_world_s_largest_family_reunion_...</td>\n",
       "      <td>Six months ago, I got an email from a man in I...</td>\n",
       "    </tr>\n",
       "    <tr>\n",
       "      <th>4</th>\n",
       "      <td>aaron_koblin_visualizing_ourselves_with_crowd_...</td>\n",
       "      <td>So I think data can actually make us more huma...</td>\n",
       "    </tr>\n",
       "    <tr>\n",
       "      <th>5</th>\n",
       "      <td>aaron_o_connell_making_sense_of_a_visible_quan...</td>\n",
       "      <td>This is a representation of your brain, and yo...</td>\n",
       "    </tr>\n",
       "    <tr>\n",
       "      <th>6</th>\n",
       "      <td>aaron_sams_how_to_speed_up_chemical_reactions_...</td>\n",
       "      <td>Meet our chemist, Harriet. She has a chemical ...</td>\n",
       "    </tr>\n",
       "    <tr>\n",
       "      <th>7</th>\n",
       "      <td>aaswath_raman_how_we_can_turn_the_cold_of_oute...</td>\n",
       "      <td>Every summer when I was growing up, I would fl...</td>\n",
       "    </tr>\n",
       "    <tr>\n",
       "      <th>8</th>\n",
       "      <td>abe_davis_new_video_technology_that_reveals_an...</td>\n",
       "      <td>Most of us think of motion as a very visual th...</td>\n",
       "    </tr>\n",
       "    <tr>\n",
       "      <th>9</th>\n",
       "      <td>abha_dawesar_life_in_the_digital_now.en.vtt</td>\n",
       "      <td>I was in New York during Hurricane Sandy, and ...</td>\n",
       "    </tr>\n",
       "  </tbody>\n",
       "</table>\n",
       "</div>"
      ],
      "text/plain": [
       "                                               title  \\\n",
       "0  a_j_jacobs_how_healthy_living_nearly_killed_me...   \n",
       "1     a_j_jacobs_my_year_of_living_biblically.en.vtt   \n",
       "2  a_j_jacobs_the_evolution_of_the_coffee_cup_lid...   \n",
       "3  a_j_jacobs_the_world_s_largest_family_reunion_...   \n",
       "4  aaron_koblin_visualizing_ourselves_with_crowd_...   \n",
       "5  aaron_o_connell_making_sense_of_a_visible_quan...   \n",
       "6  aaron_sams_how_to_speed_up_chemical_reactions_...   \n",
       "7  aaswath_raman_how_we_can_turn_the_cold_of_oute...   \n",
       "8  abe_davis_new_video_technology_that_reveals_an...   \n",
       "9        abha_dawesar_life_in_the_digital_now.en.vtt   \n",
       "\n",
       "                                            captions  \n",
       "0  I've spent the last decade subjecting myself t...  \n",
       "1  I thought I'd tell you a little about what I l...  \n",
       "2  Transcriber: TED Translators admin Reviewer: C...  \n",
       "3  Six months ago, I got an email from a man in I...  \n",
       "4  So I think data can actually make us more huma...  \n",
       "5  This is a representation of your brain, and yo...  \n",
       "6  Meet our chemist, Harriet. She has a chemical ...  \n",
       "7  Every summer when I was growing up, I would fl...  \n",
       "8  Most of us think of motion as a very visual th...  \n",
       "9  I was in New York during Hurricane Sandy, and ...  "
      ]
     },
     "execution_count": 40,
     "metadata": {},
     "output_type": "execute_result"
    }
   ],
   "source": [
    "import pandas as pd\n",
    "\n",
    "captions_df = pd.read_csv('./captions_dataset.csv')\n",
    "captions_df.head(10)"
   ]
  },
  {
   "cell_type": "code",
   "execution_count": 36,
   "metadata": {},
   "outputs": [
    {
     "name": "stderr",
     "output_type": "stream",
     "text": [
      "100%|██████████| 2691/2691 [00:00<00:00, 13202.89it/s]\n"
     ]
    }
   ],
   "source": []
  },
  {
   "cell_type": "code",
   "execution_count": 39,
   "metadata": {},
   "outputs": [],
   "source": []
  }
 ],
 "metadata": {
  "kernelspec": {
   "display_name": "Python 3",
   "language": "python",
   "name": "python3"
  },
  "language_info": {
   "codemirror_mode": {
    "name": "ipython",
    "version": 3
   },
   "file_extension": ".py",
   "mimetype": "text/x-python",
   "name": "python",
   "nbconvert_exporter": "python",
   "pygments_lexer": "ipython3",
   "version": "3.8.6"
  }
 },
 "nbformat": 4,
 "nbformat_minor": 4
}
